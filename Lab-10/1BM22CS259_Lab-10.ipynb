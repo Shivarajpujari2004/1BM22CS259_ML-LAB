{
  "nbformat": 4,
  "nbformat_minor": 0,
  "metadata": {
    "colab": {
      "provenance": []
    },
    "kernelspec": {
      "name": "python3",
      "display_name": "Python 3"
    },
    "language_info": {
      "name": "python"
    }
  },
  "cells": [
    {
      "cell_type": "code",
      "execution_count": 1,
      "metadata": {
        "colab": {
          "base_uri": "https://localhost:8080/"
        },
        "id": "HiovGAdkCN0X",
        "outputId": "6b0765d9-6432-48cc-d67e-2dd994486613"
      },
      "outputs": [
        {
          "output_type": "stream",
          "name": "stdout",
          "text": [
            "=== Accuracy Without PCA ===\n",
            "SVM: 0.9348\n",
            "Logistic Regression: 0.9511\n",
            "Random Forest: 0.9402\n",
            "\n",
            "=== Accuracy With PCA (95% variance) ===\n",
            "SVM with PCA: 0.9293\n",
            "Logistic Regression with PCA: 0.9402\n",
            "Random Forest with PCA: 0.9022\n"
          ]
        }
      ],
      "source": [
        "import pandas as pd\n",
        "import numpy as np\n",
        "from sklearn.model_selection import train_test_split\n",
        "from sklearn.preprocessing import LabelEncoder, OneHotEncoder, StandardScaler\n",
        "from sklearn.compose import ColumnTransformer\n",
        "from sklearn.pipeline import Pipeline\n",
        "from sklearn.svm import SVC\n",
        "from sklearn.linear_model import LogisticRegression\n",
        "from sklearn.ensemble import RandomForestClassifier\n",
        "from sklearn.decomposition import PCA\n",
        "from sklearn.metrics import accuracy_score\n",
        "\n",
        "# Load the dataset\n",
        "df = pd.read_csv(\"/content/heart.csv\")\n",
        "\n",
        "# Identify categorical columns\n",
        "cat_cols = df.select_dtypes(include=['object']).columns.tolist()\n",
        "\n",
        "# Label Encoding for binary categories, One-Hot Encoding for others\n",
        "for col in cat_cols:\n",
        "    if df[col].nunique() == 2:\n",
        "        le = LabelEncoder()\n",
        "        df[col] = le.fit_transform(df[col])\n",
        "    else:\n",
        "        df = pd.get_dummies(df, columns=[col], drop_first=True)\n",
        "\n",
        "# Features and Target\n",
        "X = df.drop(columns='target') if 'target' in df.columns else df.iloc[:, :-1]\n",
        "y = df['target'] if 'target' in df.columns else df.iloc[:, -1]\n",
        "\n",
        "# Split the data\n",
        "X_train, X_test, y_train, y_test = train_test_split(X, y, test_size=0.2, random_state=42)\n",
        "\n",
        "# Scale the features\n",
        "scaler = StandardScaler()\n",
        "X_train_scaled = scaler.fit_transform(X_train)\n",
        "X_test_scaled = scaler.transform(X_test)\n",
        "\n",
        "# Train different models\n",
        "models = {\n",
        "    \"SVM\": SVC(),\n",
        "    \"Logistic Regression\": LogisticRegression(max_iter=1000),\n",
        "    \"Random Forest\": RandomForestClassifier()\n",
        "}\n",
        "\n",
        "print(\"=== Accuracy Without PCA ===\")\n",
        "for name, model in models.items():\n",
        "    model.fit(X_train_scaled, y_train)\n",
        "    y_pred = model.predict(X_test_scaled)\n",
        "    acc = accuracy_score(y_test, y_pred)\n",
        "    print(f\"{name}: {acc:.4f}\")\n",
        "\n",
        "# Apply PCA\n",
        "pca = PCA(n_components=0.95)  # Retain 95% variance\n",
        "X_train_pca = pca.fit_transform(X_train_scaled)\n",
        "X_test_pca = pca.transform(X_test_scaled)\n",
        "\n",
        "print(\"\\n=== Accuracy With PCA (95% variance) ===\")\n",
        "for name, model in models.items():\n",
        "    model.fit(X_train_pca, y_train)\n",
        "    y_pred = model.predict(X_test_pca)\n",
        "    acc = accuracy_score(y_test, y_pred)\n",
        "    print(f\"{name} with PCA: {acc:.4f}\")\n"
      ]
    }
  ]
}