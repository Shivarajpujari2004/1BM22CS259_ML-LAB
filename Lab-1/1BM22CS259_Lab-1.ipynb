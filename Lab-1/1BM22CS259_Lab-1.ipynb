{
  "nbformat": 4,
  "nbformat_minor": 0,
  "metadata": {
    "colab": {
      "provenance": []
    },
    "kernelspec": {
      "name": "python3",
      "display_name": "Python 3"
    },
    "language_info": {
      "name": "python"
    }
  },
  "cells": [
    {
      "cell_type": "code",
      "execution_count": null,
      "metadata": {
        "colab": {
          "base_uri": "https://localhost:8080/"
        },
        "id": "ft9PMLQM_QE8",
        "outputId": "0338b9e4-ca56-447b-d5d3-ed673d1489ab"
      },
      "outputs": [
        {
          "output_type": "stream",
          "name": "stdout",
          "text": [
            "   Gender       AGE      Urea        Cr     HbA1c      Chol        TG  \\\n",
            "0     0.0  0.431373  0.328125  0.203046  0.283688  0.405405  0.100000   \n",
            "1     0.0  0.431373  0.328125  0.203046  0.283688  0.405405  0.100000   \n",
            "2     0.0  0.431373  0.328125  0.203046  0.283688  0.405405  0.100000   \n",
            "3     0.5  0.098039  0.515625  0.203046  0.283688  0.500000  0.116667   \n",
            "4     0.0  0.333333  0.140625  0.091371  0.219858  0.229730  0.116667   \n",
            "\n",
            "        HDL       LDL      VLDL       BMI  CLASS  \n",
            "0  0.758621  0.207547  0.031746  0.238095      0  \n",
            "1  0.758621  0.207547  0.031746  0.238095      0  \n",
            "2  0.758621  0.207547  0.031746  0.238095      0  \n",
            "3  0.206897  0.320755  0.023810  0.095238      0  \n",
            "4  0.275862  0.226415  0.023810  0.095238      0  \n"
          ]
        }
      ],
      "source": [
        "import pandas as pd\n",
        "import numpy as np\n",
        "from sklearn.preprocessing import MinMaxScaler, StandardScaler, LabelEncoder\n",
        "\n",
        "# Load dataset\n",
        "diabetes = pd.read_csv('diabetes.csv')  # Replace with actual file path\n",
        "\n",
        "diabetes.drop(columns=['ID', 'No_Pation'], inplace=True)  # Drop unnecessary columns\n",
        "\n",
        "diabetes.dropna(inplace=True)  # Handle missing values\n",
        "\n",
        "diabetes[['Gender', 'CLASS']] = diabetes[['Gender', 'CLASS']].apply(LabelEncoder().fit_transform)  # Encode categorical data\n",
        "\n",
        "diabetes = diabetes[(np.abs((diabetes.select_dtypes(include=[np.number]) - diabetes.mean()) / diabetes.std()) < 3).all(axis=1)]  # Remove outliers\n",
        "\n",
        "scaler = MinMaxScaler()\n",
        "diabetes_scaled = pd.DataFrame(scaler.fit_transform(diabetes.drop(columns=['CLASS'])), columns=diabetes.columns[:-1])\n",
        "diabetes_scaled['CLASS'] = diabetes['CLASS'].values  # Add target column back\n",
        "\n",
        "print(diabetes_scaled.head())\n"
      ]
    },
    {
      "cell_type": "code",
      "source": [],
      "metadata": {
        "id": "bnz6zIiNKprr"
      },
      "execution_count": null,
      "outputs": []
    }
  ]
}